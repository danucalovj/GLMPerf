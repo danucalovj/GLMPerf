{
 "cells": [
  {
   "cell_type": "markdown",
   "metadata": {
    "deletable": true,
    "editable": true
   },
   "source": [
    "# Predicting Airline Data using a Generalized Linear Model (GLM) in R\n",
    "\n",
    "In particular, we will predict the probability that a flight is late based on its departure date/time, the expected flight time and distance, the origin and destitation airports.\n",
    "\n",
    "The core library for machine learning part will be the [GLM function of R](http://www.statmethods.net/advstats/glm.html).\n",
    "\n",
    "### Considerations\n",
    "\n",
    "The objective of this notebook is to define a simple model offerring a point of comparison in terms of computing performances across datascience language and libraries.  In otherwords, this notebook is not for you if you are looking for the most accurate model in airline predictions.  "
   ]
  },
  {
   "cell_type": "markdown",
   "metadata": {
    "deletable": true,
    "editable": true
   },
   "source": [
    "## Install and Load useful libraries"
   ]
  },
  {
   "cell_type": "markdown",
   "metadata": {
    "deletable": true,
    "editable": true
   },
   "source": [
    "#install.packages('caret', repos='http://cran.rstudio.com/')\n",
    "#install.packages('ROCR', repos='http://cran.rstudio.com/')"
   ]
  },
  {
   "cell_type": "code",
   "execution_count": 1,
   "metadata": {
    "ExecuteTime": {
     "end_time": "2017-02-27T16:13:41.059422",
     "start_time": "2017-02-27T15:13:36.160Z"
    },
    "collapsed": false,
    "deletable": true,
    "editable": true
   },
   "outputs": [
    {
     "name": "stderr",
     "output_type": "stream",
     "text": [
      "Loading required package: lattice\n",
      "Loading required package: ggplot2\n",
      "Loading required package: gplots\n",
      "\n",
      "Attaching package: ‘gplots’\n",
      "\n",
      "The following object is masked from ‘package:stats’:\n",
      "\n",
      "    lowess\n",
      "\n"
     ]
    }
   ],
   "source": [
    "library(caret)\n",
    "library(ROCR)"
   ]
  },
  {
   "cell_type": "markdown",
   "metadata": {
    "deletable": true,
    "editable": true
   },
   "source": [
    "## Load the data\n",
    "\n",
    "- The dataset is taken from [http://stat-computing.org](http://stat-computing.org/dataexpo/2009/the-data.html).  We take the data corresponding to year 2008.\n",
    "- We restrict the dataset to the first million rows\n",
    "- We print all column names and the first 5 rows of the dataset"
   ]
  },
  {
   "cell_type": "code",
   "execution_count": 2,
   "metadata": {
    "ExecuteTime": {
     "end_time": "2017-02-27T16:14:33.614547",
     "start_time": "2017-02-27T15:13:36.179Z"
    },
    "collapsed": false,
    "deletable": true,
    "editable": true
   },
   "outputs": [
    {
     "data": {
      "text/html": [
       "7009728"
      ],
      "text/latex": [
       "7009728"
      ],
      "text/markdown": [
       "7009728"
      ],
      "text/plain": [
       "[1] 7009728"
      ]
     },
     "metadata": {},
     "output_type": "display_data"
    }
   ],
   "source": [
    "df = read.csv(\"2008.csv\") \n",
    "nrow(df)"
   ]
  },
  {
   "cell_type": "code",
   "execution_count": 3,
   "metadata": {
    "ExecuteTime": {
     "end_time": "2017-02-27T16:14:33.865028",
     "start_time": "2017-02-27T15:13:36.183Z"
    },
    "collapsed": false,
    "deletable": true,
    "editable": true
   },
   "outputs": [],
   "source": [
    "df = df[0:1000000,]"
   ]
  },
  {
   "cell_type": "code",
   "execution_count": 4,
   "metadata": {
    "ExecuteTime": {
     "end_time": "2017-02-27T16:14:33.876693",
     "start_time": "2017-02-27T15:13:36.189Z"
    },
    "collapsed": false,
    "deletable": true,
    "editable": true
   },
   "outputs": [
    {
     "data": {
      "text/html": [
       "<ol class=list-inline>\n",
       "\t<li>'Year'</li>\n",
       "\t<li>'Month'</li>\n",
       "\t<li>'DayofMonth'</li>\n",
       "\t<li>'DayOfWeek'</li>\n",
       "\t<li>'DepTime'</li>\n",
       "\t<li>'CRSDepTime'</li>\n",
       "\t<li>'ArrTime'</li>\n",
       "\t<li>'CRSArrTime'</li>\n",
       "\t<li>'UniqueCarrier'</li>\n",
       "\t<li>'FlightNum'</li>\n",
       "\t<li>'TailNum'</li>\n",
       "\t<li>'ActualElapsedTime'</li>\n",
       "\t<li>'CRSElapsedTime'</li>\n",
       "\t<li>'AirTime'</li>\n",
       "\t<li>'ArrDelay'</li>\n",
       "\t<li>'DepDelay'</li>\n",
       "\t<li>'Origin'</li>\n",
       "\t<li>'Dest'</li>\n",
       "\t<li>'Distance'</li>\n",
       "\t<li>'TaxiIn'</li>\n",
       "\t<li>'TaxiOut'</li>\n",
       "\t<li>'Cancelled'</li>\n",
       "\t<li>'CancellationCode'</li>\n",
       "\t<li>'Diverted'</li>\n",
       "\t<li>'CarrierDelay'</li>\n",
       "\t<li>'WeatherDelay'</li>\n",
       "\t<li>'NASDelay'</li>\n",
       "\t<li>'SecurityDelay'</li>\n",
       "\t<li>'LateAircraftDelay'</li>\n",
       "</ol>\n"
      ],
      "text/latex": [
       "\\begin{enumerate*}\n",
       "\\item 'Year'\n",
       "\\item 'Month'\n",
       "\\item 'DayofMonth'\n",
       "\\item 'DayOfWeek'\n",
       "\\item 'DepTime'\n",
       "\\item 'CRSDepTime'\n",
       "\\item 'ArrTime'\n",
       "\\item 'CRSArrTime'\n",
       "\\item 'UniqueCarrier'\n",
       "\\item 'FlightNum'\n",
       "\\item 'TailNum'\n",
       "\\item 'ActualElapsedTime'\n",
       "\\item 'CRSElapsedTime'\n",
       "\\item 'AirTime'\n",
       "\\item 'ArrDelay'\n",
       "\\item 'DepDelay'\n",
       "\\item 'Origin'\n",
       "\\item 'Dest'\n",
       "\\item 'Distance'\n",
       "\\item 'TaxiIn'\n",
       "\\item 'TaxiOut'\n",
       "\\item 'Cancelled'\n",
       "\\item 'CancellationCode'\n",
       "\\item 'Diverted'\n",
       "\\item 'CarrierDelay'\n",
       "\\item 'WeatherDelay'\n",
       "\\item 'NASDelay'\n",
       "\\item 'SecurityDelay'\n",
       "\\item 'LateAircraftDelay'\n",
       "\\end{enumerate*}\n"
      ],
      "text/markdown": [
       "1. 'Year'\n",
       "2. 'Month'\n",
       "3. 'DayofMonth'\n",
       "4. 'DayOfWeek'\n",
       "5. 'DepTime'\n",
       "6. 'CRSDepTime'\n",
       "7. 'ArrTime'\n",
       "8. 'CRSArrTime'\n",
       "9. 'UniqueCarrier'\n",
       "10. 'FlightNum'\n",
       "11. 'TailNum'\n",
       "12. 'ActualElapsedTime'\n",
       "13. 'CRSElapsedTime'\n",
       "14. 'AirTime'\n",
       "15. 'ArrDelay'\n",
       "16. 'DepDelay'\n",
       "17. 'Origin'\n",
       "18. 'Dest'\n",
       "19. 'Distance'\n",
       "20. 'TaxiIn'\n",
       "21. 'TaxiOut'\n",
       "22. 'Cancelled'\n",
       "23. 'CancellationCode'\n",
       "24. 'Diverted'\n",
       "25. 'CarrierDelay'\n",
       "26. 'WeatherDelay'\n",
       "27. 'NASDelay'\n",
       "28. 'SecurityDelay'\n",
       "29. 'LateAircraftDelay'\n",
       "\n",
       "\n"
      ],
      "text/plain": [
       " [1] \"Year\"              \"Month\"             \"DayofMonth\"       \n",
       " [4] \"DayOfWeek\"         \"DepTime\"           \"CRSDepTime\"       \n",
       " [7] \"ArrTime\"           \"CRSArrTime\"        \"UniqueCarrier\"    \n",
       "[10] \"FlightNum\"         \"TailNum\"           \"ActualElapsedTime\"\n",
       "[13] \"CRSElapsedTime\"    \"AirTime\"           \"ArrDelay\"         \n",
       "[16] \"DepDelay\"          \"Origin\"            \"Dest\"             \n",
       "[19] \"Distance\"          \"TaxiIn\"            \"TaxiOut\"          \n",
       "[22] \"Cancelled\"         \"CancellationCode\"  \"Diverted\"         \n",
       "[25] \"CarrierDelay\"      \"WeatherDelay\"      \"NASDelay\"         \n",
       "[28] \"SecurityDelay\"     \"LateAircraftDelay\""
      ]
     },
     "metadata": {},
     "output_type": "display_data"
    }
   ],
   "source": [
    "names(df)"
   ]
  },
  {
   "cell_type": "code",
   "execution_count": 5,
   "metadata": {
    "ExecuteTime": {
     "end_time": "2017-02-27T16:14:33.895287",
     "start_time": "2017-02-27T15:13:36.197Z"
    },
    "collapsed": false,
    "deletable": true,
    "editable": true
   },
   "outputs": [
    {
     "data": {
      "text/html": [
       "<table>\n",
       "<thead><tr><th scope=col>Year</th><th scope=col>Month</th><th scope=col>DayofMonth</th><th scope=col>DayOfWeek</th><th scope=col>DepTime</th><th scope=col>CRSDepTime</th><th scope=col>ArrTime</th><th scope=col>CRSArrTime</th><th scope=col>UniqueCarrier</th><th scope=col>FlightNum</th><th scope=col>⋯</th><th scope=col>TaxiIn</th><th scope=col>TaxiOut</th><th scope=col>Cancelled</th><th scope=col>CancellationCode</th><th scope=col>Diverted</th><th scope=col>CarrierDelay</th><th scope=col>WeatherDelay</th><th scope=col>NASDelay</th><th scope=col>SecurityDelay</th><th scope=col>LateAircraftDelay</th></tr></thead>\n",
       "<tbody>\n",
       "\t<tr><td>2008</td><td>1   </td><td>3   </td><td>4   </td><td>2003</td><td>1955</td><td>2211</td><td>2225</td><td>WN  </td><td> 335</td><td>⋯   </td><td>4   </td><td> 8  </td><td>0   </td><td>    </td><td>0   </td><td>NA  </td><td>NA  </td><td>NA  </td><td>NA  </td><td>NA  </td></tr>\n",
       "\t<tr><td>2008</td><td>1   </td><td>3   </td><td>4   </td><td> 754</td><td> 735</td><td>1002</td><td>1000</td><td>WN  </td><td>3231</td><td>⋯   </td><td>5   </td><td>10  </td><td>0   </td><td>    </td><td>0   </td><td>NA  </td><td>NA  </td><td>NA  </td><td>NA  </td><td>NA  </td></tr>\n",
       "\t<tr><td>2008</td><td>1   </td><td>3   </td><td>4   </td><td> 628</td><td> 620</td><td> 804</td><td> 750</td><td>WN  </td><td> 448</td><td>⋯   </td><td>3   </td><td>17  </td><td>0   </td><td>    </td><td>0   </td><td>NA  </td><td>NA  </td><td>NA  </td><td>NA  </td><td>NA  </td></tr>\n",
       "\t<tr><td>2008</td><td>1   </td><td>3   </td><td>4   </td><td> 926</td><td> 930</td><td>1054</td><td>1100</td><td>WN  </td><td>1746</td><td>⋯   </td><td>3   </td><td> 7  </td><td>0   </td><td>    </td><td>0   </td><td>NA  </td><td>NA  </td><td>NA  </td><td>NA  </td><td>NA  </td></tr>\n",
       "\t<tr><td>2008</td><td>1   </td><td>3   </td><td>4   </td><td>1829</td><td>1755</td><td>1959</td><td>1925</td><td>WN  </td><td>3920</td><td>⋯   </td><td>3   </td><td>10  </td><td>0   </td><td>    </td><td>0   </td><td> 2  </td><td> 0  </td><td> 0  </td><td> 0  </td><td>32  </td></tr>\n",
       "</tbody>\n",
       "</table>\n"
      ],
      "text/latex": [
       "\\begin{tabular}{r|lllllllllllllllllllllllllllll}\n",
       " Year & Month & DayofMonth & DayOfWeek & DepTime & CRSDepTime & ArrTime & CRSArrTime & UniqueCarrier & FlightNum & ⋯ & TaxiIn & TaxiOut & Cancelled & CancellationCode & Diverted & CarrierDelay & WeatherDelay & NASDelay & SecurityDelay & LateAircraftDelay\\\\\n",
       "\\hline\n",
       "\t 2008 & 1    & 3    & 4    & 2003 & 1955 & 2211 & 2225 & WN   &  335 & ⋯    & 4    &  8   & 0    &      & 0    & NA   & NA   & NA   & NA   & NA  \\\\\n",
       "\t 2008 & 1    & 3    & 4    &  754 &  735 & 1002 & 1000 & WN   & 3231 & ⋯    & 5    & 10   & 0    &      & 0    & NA   & NA   & NA   & NA   & NA  \\\\\n",
       "\t 2008 & 1    & 3    & 4    &  628 &  620 &  804 &  750 & WN   &  448 & ⋯    & 3    & 17   & 0    &      & 0    & NA   & NA   & NA   & NA   & NA  \\\\\n",
       "\t 2008 & 1    & 3    & 4    &  926 &  930 & 1054 & 1100 & WN   & 1746 & ⋯    & 3    &  7   & 0    &      & 0    & NA   & NA   & NA   & NA   & NA  \\\\\n",
       "\t 2008 & 1    & 3    & 4    & 1829 & 1755 & 1959 & 1925 & WN   & 3920 & ⋯    & 3    & 10   & 0    &      & 0    &  2   &  0   &  0   &  0   & 32  \\\\\n",
       "\\end{tabular}\n"
      ],
      "text/markdown": [
       "\n",
       "Year | Month | DayofMonth | DayOfWeek | DepTime | CRSDepTime | ArrTime | CRSArrTime | UniqueCarrier | FlightNum | ⋯ | TaxiIn | TaxiOut | Cancelled | CancellationCode | Diverted | CarrierDelay | WeatherDelay | NASDelay | SecurityDelay | LateAircraftDelay | \n",
       "|---|---|---|---|---|\n",
       "| 2008 | 1    | 3    | 4    | 2003 | 1955 | 2211 | 2225 | WN   |  335 | ⋯    | 4    |  8   | 0    |      | 0    | NA   | NA   | NA   | NA   | NA   | \n",
       "| 2008 | 1    | 3    | 4    |  754 |  735 | 1002 | 1000 | WN   | 3231 | ⋯    | 5    | 10   | 0    |      | 0    | NA   | NA   | NA   | NA   | NA   | \n",
       "| 2008 | 1    | 3    | 4    |  628 |  620 |  804 |  750 | WN   |  448 | ⋯    | 3    | 17   | 0    |      | 0    | NA   | NA   | NA   | NA   | NA   | \n",
       "| 2008 | 1    | 3    | 4    |  926 |  930 | 1054 | 1100 | WN   | 1746 | ⋯    | 3    |  7   | 0    |      | 0    | NA   | NA   | NA   | NA   | NA   | \n",
       "| 2008 | 1    | 3    | 4    | 1829 | 1755 | 1959 | 1925 | WN   | 3920 | ⋯    | 3    | 10   | 0    |      | 0    |  2   |  0   |  0   |  0   | 32   | \n",
       "\n",
       "\n"
      ],
      "text/plain": [
       "  Year Month DayofMonth DayOfWeek DepTime CRSDepTime ArrTime CRSArrTime\n",
       "1 2008 1     3          4         2003    1955       2211    2225      \n",
       "2 2008 1     3          4          754     735       1002    1000      \n",
       "3 2008 1     3          4          628     620        804     750      \n",
       "4 2008 1     3          4          926     930       1054    1100      \n",
       "5 2008 1     3          4         1829    1755       1959    1925      \n",
       "  UniqueCarrier FlightNum ⋯ TaxiIn TaxiOut Cancelled CancellationCode Diverted\n",
       "1 WN             335      ⋯ 4       8      0                          0       \n",
       "2 WN            3231      ⋯ 5      10      0                          0       \n",
       "3 WN             448      ⋯ 3      17      0                          0       \n",
       "4 WN            1746      ⋯ 3       7      0                          0       \n",
       "5 WN            3920      ⋯ 3      10      0                          0       \n",
       "  CarrierDelay WeatherDelay NASDelay SecurityDelay LateAircraftDelay\n",
       "1 NA           NA           NA       NA            NA               \n",
       "2 NA           NA           NA       NA            NA               \n",
       "3 NA           NA           NA       NA            NA               \n",
       "4 NA           NA           NA       NA            NA               \n",
       "5  2            0            0        0            32               "
      ]
     },
     "metadata": {},
     "output_type": "display_data"
    }
   ],
   "source": [
    "df[0:5, ]"
   ]
  },
  {
   "cell_type": "markdown",
   "metadata": {
    "deletable": true,
    "editable": true
   },
   "source": [
    "## Data preparation for training\n",
    "\n",
    "- We create a new \"binary\" column indicating if the flight was delayed or not.\n",
    "- We turn origin/destination categorical data to a \"one-hot\" encoding representation\n",
    "- We show the first 5 rows of the modified dataset\n",
    "- We split the dataset in two parts:  a training dataset and a testing dataset containing 80% and 20% of the rows, respectively."
   ]
  },
  {
   "cell_type": "code",
   "execution_count": 6,
   "metadata": {
    "ExecuteTime": {
     "end_time": "2017-02-27T16:14:35.786941",
     "start_time": "2017-02-27T15:13:36.201Z"
    },
    "collapsed": false,
    "deletable": true,
    "editable": true
   },
   "outputs": [],
   "source": [
    "df = df[is.na(df$ArrDelay)==0,] #drop column where delay is na\n",
    "df[\"IsArrDelayed\"] <- as.numeric(df[\"ArrDelay\"]>0)\n",
    "df[\"Origin\"       ] <- model.matrix(~Origin       , data=df)#[,-1] #as.factor (df[,c(\"Origin\")])\n",
    "df[\"Dest\"         ] <- model.matrix(~Dest         , data=df)#as.factor (df[,c(\"Dest\")])"
   ]
  },
  {
   "cell_type": "code",
   "execution_count": 7,
   "metadata": {
    "ExecuteTime": {
     "end_time": "2017-02-27T16:14:35.804050",
     "start_time": "2017-02-27T15:13:36.211Z"
    },
    "collapsed": false,
    "deletable": true,
    "editable": true
   },
   "outputs": [
    {
     "data": {
      "text/html": [
       "<table>\n",
       "<thead><tr><th scope=col>Year</th><th scope=col>Month</th><th scope=col>DayofMonth</th><th scope=col>DayOfWeek</th><th scope=col>DepTime</th><th scope=col>CRSDepTime</th><th scope=col>ArrTime</th><th scope=col>CRSArrTime</th><th scope=col>UniqueCarrier</th><th scope=col>FlightNum</th><th scope=col>⋯</th><th scope=col>TaxiOut</th><th scope=col>Cancelled</th><th scope=col>CancellationCode</th><th scope=col>Diverted</th><th scope=col>CarrierDelay</th><th scope=col>WeatherDelay</th><th scope=col>NASDelay</th><th scope=col>SecurityDelay</th><th scope=col>LateAircraftDelay</th><th scope=col>IsArrDelayed</th></tr></thead>\n",
       "<tbody>\n",
       "\t<tr><td>2008</td><td>1   </td><td>3   </td><td>4   </td><td>2003</td><td>1955</td><td>2211</td><td>2225</td><td>WN  </td><td> 335</td><td>⋯   </td><td> 8  </td><td>0   </td><td>    </td><td>0   </td><td>NA  </td><td>NA  </td><td>NA  </td><td>NA  </td><td>NA  </td><td>0   </td></tr>\n",
       "\t<tr><td>2008</td><td>1   </td><td>3   </td><td>4   </td><td> 754</td><td> 735</td><td>1002</td><td>1000</td><td>WN  </td><td>3231</td><td>⋯   </td><td>10  </td><td>0   </td><td>    </td><td>0   </td><td>NA  </td><td>NA  </td><td>NA  </td><td>NA  </td><td>NA  </td><td>1   </td></tr>\n",
       "\t<tr><td>2008</td><td>1   </td><td>3   </td><td>4   </td><td> 628</td><td> 620</td><td> 804</td><td> 750</td><td>WN  </td><td> 448</td><td>⋯   </td><td>17  </td><td>0   </td><td>    </td><td>0   </td><td>NA  </td><td>NA  </td><td>NA  </td><td>NA  </td><td>NA  </td><td>1   </td></tr>\n",
       "\t<tr><td>2008</td><td>1   </td><td>3   </td><td>4   </td><td> 926</td><td> 930</td><td>1054</td><td>1100</td><td>WN  </td><td>1746</td><td>⋯   </td><td> 7  </td><td>0   </td><td>    </td><td>0   </td><td>NA  </td><td>NA  </td><td>NA  </td><td>NA  </td><td>NA  </td><td>0   </td></tr>\n",
       "\t<tr><td>2008</td><td>1   </td><td>3   </td><td>4   </td><td>1829</td><td>1755</td><td>1959</td><td>1925</td><td>WN  </td><td>3920</td><td>⋯   </td><td>10  </td><td>0   </td><td>    </td><td>0   </td><td> 2  </td><td> 0  </td><td> 0  </td><td> 0  </td><td>32  </td><td>1   </td></tr>\n",
       "</tbody>\n",
       "</table>\n"
      ],
      "text/latex": [
       "\\begin{tabular}{r|llllllllllllllllllllllllllllll}\n",
       " Year & Month & DayofMonth & DayOfWeek & DepTime & CRSDepTime & ArrTime & CRSArrTime & UniqueCarrier & FlightNum & ⋯ & TaxiOut & Cancelled & CancellationCode & Diverted & CarrierDelay & WeatherDelay & NASDelay & SecurityDelay & LateAircraftDelay & IsArrDelayed\\\\\n",
       "\\hline\n",
       "\t 2008 & 1    & 3    & 4    & 2003 & 1955 & 2211 & 2225 & WN   &  335 & ⋯    &  8   & 0    &      & 0    & NA   & NA   & NA   & NA   & NA   & 0   \\\\\n",
       "\t 2008 & 1    & 3    & 4    &  754 &  735 & 1002 & 1000 & WN   & 3231 & ⋯    & 10   & 0    &      & 0    & NA   & NA   & NA   & NA   & NA   & 1   \\\\\n",
       "\t 2008 & 1    & 3    & 4    &  628 &  620 &  804 &  750 & WN   &  448 & ⋯    & 17   & 0    &      & 0    & NA   & NA   & NA   & NA   & NA   & 1   \\\\\n",
       "\t 2008 & 1    & 3    & 4    &  926 &  930 & 1054 & 1100 & WN   & 1746 & ⋯    &  7   & 0    &      & 0    & NA   & NA   & NA   & NA   & NA   & 0   \\\\\n",
       "\t 2008 & 1    & 3    & 4    & 1829 & 1755 & 1959 & 1925 & WN   & 3920 & ⋯    & 10   & 0    &      & 0    &  2   &  0   &  0   &  0   & 32   & 1   \\\\\n",
       "\\end{tabular}\n"
      ],
      "text/markdown": [
       "\n",
       "Year | Month | DayofMonth | DayOfWeek | DepTime | CRSDepTime | ArrTime | CRSArrTime | UniqueCarrier | FlightNum | ⋯ | TaxiOut | Cancelled | CancellationCode | Diverted | CarrierDelay | WeatherDelay | NASDelay | SecurityDelay | LateAircraftDelay | IsArrDelayed | \n",
       "|---|---|---|---|---|\n",
       "| 2008 | 1    | 3    | 4    | 2003 | 1955 | 2211 | 2225 | WN   |  335 | ⋯    |  8   | 0    |      | 0    | NA   | NA   | NA   | NA   | NA   | 0    | \n",
       "| 2008 | 1    | 3    | 4    |  754 |  735 | 1002 | 1000 | WN   | 3231 | ⋯    | 10   | 0    |      | 0    | NA   | NA   | NA   | NA   | NA   | 1    | \n",
       "| 2008 | 1    | 3    | 4    |  628 |  620 |  804 |  750 | WN   |  448 | ⋯    | 17   | 0    |      | 0    | NA   | NA   | NA   | NA   | NA   | 1    | \n",
       "| 2008 | 1    | 3    | 4    |  926 |  930 | 1054 | 1100 | WN   | 1746 | ⋯    |  7   | 0    |      | 0    | NA   | NA   | NA   | NA   | NA   | 0    | \n",
       "| 2008 | 1    | 3    | 4    | 1829 | 1755 | 1959 | 1925 | WN   | 3920 | ⋯    | 10   | 0    |      | 0    |  2   |  0   |  0   |  0   | 32   | 1    | \n",
       "\n",
       "\n"
      ],
      "text/plain": [
       "  Year Month DayofMonth DayOfWeek DepTime CRSDepTime ArrTime CRSArrTime\n",
       "1 2008 1     3          4         2003    1955       2211    2225      \n",
       "2 2008 1     3          4          754     735       1002    1000      \n",
       "3 2008 1     3          4          628     620        804     750      \n",
       "4 2008 1     3          4          926     930       1054    1100      \n",
       "5 2008 1     3          4         1829    1755       1959    1925      \n",
       "  UniqueCarrier FlightNum ⋯ TaxiOut Cancelled CancellationCode Diverted\n",
       "1 WN             335      ⋯  8      0                          0       \n",
       "2 WN            3231      ⋯ 10      0                          0       \n",
       "3 WN             448      ⋯ 17      0                          0       \n",
       "4 WN            1746      ⋯  7      0                          0       \n",
       "5 WN            3920      ⋯ 10      0                          0       \n",
       "  CarrierDelay WeatherDelay NASDelay SecurityDelay LateAircraftDelay\n",
       "1 NA           NA           NA       NA            NA               \n",
       "2 NA           NA           NA       NA            NA               \n",
       "3 NA           NA           NA       NA            NA               \n",
       "4 NA           NA           NA       NA            NA               \n",
       "5  2            0            0        0            32               \n",
       "  IsArrDelayed\n",
       "1 0           \n",
       "2 1           \n",
       "3 1           \n",
       "4 0           \n",
       "5 1           "
      ]
     },
     "metadata": {},
     "output_type": "display_data"
    }
   ],
   "source": [
    "df[0:5, ]"
   ]
  },
  {
   "cell_type": "code",
   "execution_count": 8,
   "metadata": {
    "ExecuteTime": {
     "end_time": "2017-02-27T16:14:46.817246",
     "start_time": "2017-02-27T15:13:36.215Z"
    },
    "collapsed": false,
    "deletable": true,
    "editable": true
   },
   "outputs": [],
   "source": [
    "trainIndex = sample(1:nrow(df), size = round(0.8*nrow(df)), replace=FALSE)\n",
    "train = df[ trainIndex, ]\n",
    "test  = df[-trainIndex, ]"
   ]
  },
  {
   "cell_type": "markdown",
   "metadata": {
    "deletable": true,
    "editable": true
   },
   "source": [
    "## Model building\n",
    "\n",
    "- We define the generalized linear model using a binomial function --> Logistic regression.\n",
    "- We train the model and measure the training time --> ~19min on an intel i7-6700K (4.0 GHz) for 800K rows \t\n",
    "- We show the model summary\n",
    "- We show the 10 most important variables"
   ]
  },
  {
   "cell_type": "code",
   "execution_count": null,
   "metadata": {
    "ExecuteTime": {
     "start_time": "2017-02-27T15:13:36.231Z"
    },
    "collapsed": false,
    "deletable": true,
    "editable": true
   },
   "outputs": [],
   "source": [
    "system.time(\n",
    "    model <- glm(IsArrDelayed ~ Year + Month + DayofMonth + DayOfWeek + DepTime + AirTime + Origin + Dest + Distance\n",
    "             ,data=train,family = binomial) \n",
    ")"
   ]
  },
  {
   "cell_type": "code",
   "execution_count": null,
   "metadata": {
    "ExecuteTime": {
     "start_time": "2017-02-27T15:13:36.235Z"
    },
    "collapsed": false,
    "deletable": true,
    "editable": true
   },
   "outputs": [],
   "source": [
    "summary(model)"
   ]
  },
  {
   "cell_type": "code",
   "execution_count": null,
   "metadata": {
    "ExecuteTime": {
     "start_time": "2017-02-27T15:13:36.241Z"
    },
    "collapsed": false,
    "deletable": true,
    "editable": true
   },
   "outputs": [],
   "source": [
    "vi <- varImp(model, scale = FALSE)\n",
    "vi$Variable<-rownames(vi)\n",
    "rownames(vi) <- NULL\n",
    "vi = vi[ order(-vi[,1]), c(\"Variable\", \"Overall\") ]\n",
    "vi[0:10,]"
   ]
  },
  {
   "cell_type": "markdown",
   "metadata": {
    "deletable": true,
    "editable": true
   },
   "source": [
    "## Model testing\n",
    "\n",
    "- We add a model prediction column to the testing dataset\n",
    "- We show the first 10 rows of the test dataset (with the new column)\n",
    "- We show the model ROC curve\n",
    "- We measure the model Area Under Curve (AUC) to be 0.706 on the testing dataset.  \n",
    "\n",
    "This is telling us that our model is not super accurate  (we generally assume that a model is raisonable at predicting when it has an AUC above 0.8).  But, since we are not trying to build the best possible model, but just show comparison of data science code/performance accross languages/libraries.\n",
    "If none the less you are willing to improve this result, you should try adding more feature column into the model."
   ]
  },
  {
   "cell_type": "code",
   "execution_count": null,
   "metadata": {
    "ExecuteTime": {
     "start_time": "2017-02-27T15:13:36.254Z"
    },
    "collapsed": false,
    "deletable": true,
    "editable": true
   },
   "outputs": [],
   "source": [
    "test[\"IsArrDelayedPred\"] <- predict(model, newdata=test, type=\"response\")\n",
    "test[0:10,]"
   ]
  },
  {
   "cell_type": "code",
   "execution_count": null,
   "metadata": {
    "ExecuteTime": {
     "start_time": "2017-02-27T15:13:36.257Z"
    },
    "collapsed": false,
    "deletable": true,
    "editable": true
   },
   "outputs": [],
   "source": [
    "pred <- prediction(test$IsArrDelayedPred, test$IsArrDelayed)\n",
    "perf <- performance(pred, measure = \"tpr\", x.measure = \"fpr\") \n",
    "plot(perf, col=rainbow(10))"
   ]
  },
  {
   "cell_type": "code",
   "execution_count": null,
   "metadata": {
    "ExecuteTime": {
     "start_time": "2017-02-27T15:13:36.262Z"
    },
    "collapsed": false,
    "deletable": true,
    "editable": true
   },
   "outputs": [],
   "source": [
    "AUC = performance(pred, measure = \"auc\")@y.values\n",
    "AUC"
   ]
  },
  {
   "cell_type": "markdown",
   "metadata": {
    "deletable": true,
    "editable": true
   },
   "source": [
    "## Key takeaways\n",
    "\n",
    "- We built a GLM model predicting airline delay probability\n",
    "- We train it on 800K rows in ~19min on an intel i7-6700K (4.0 GHz)\n",
    "- We measure an AUC of 0.706, which is not super accurate but reasonable\n",
    "- We demonstrated a typical workflow in R language in a Jupyter notebook\n",
    "\n",
    "I might be biased, but I didn't find the R documentation very easy to read (compared to python equivalent). "
   ]
  },
  {
   "cell_type": "code",
   "execution_count": null,
   "metadata": {
    "collapsed": true,
    "deletable": true,
    "editable": true
   },
   "outputs": [],
   "source": []
  }
 ],
 "metadata": {
  "kernelspec": {
   "display_name": "R",
   "language": "R",
   "name": "ir"
  },
  "language_info": {
   "codemirror_mode": "r",
   "file_extension": ".r",
   "mimetype": "text/x-r-source",
   "name": "R",
   "pygments_lexer": "r",
   "version": "3.2.3"
  }
 },
 "nbformat": 4,
 "nbformat_minor": 2
}
